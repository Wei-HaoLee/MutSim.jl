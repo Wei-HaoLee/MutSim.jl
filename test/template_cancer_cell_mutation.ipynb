{
 "cells": [
  {
   "cell_type": "code",
   "execution_count": 1,
   "metadata": {},
   "outputs": [],
   "source": [
    "using MutSim"
   ]
  },
  {
   "cell_type": "code",
   "execution_count": 3,
   "metadata": {},
   "outputs": [
    {
     "name": "stdout",
     "output_type": "stream",
     "text": [
      "Current step: 20\n",
      "Current step: 40\n",
      "Current step: 60\n",
      "Current step: 80\n",
      "Current step: 100\n",
      "Current step: 120\n",
      "Current step: 140\n",
      "Current step: 160\n",
      "Current step: 180\n",
      "Current step: 200\n",
      "Current step: 220\n",
      "Current step: 240\n",
      "Current step: 260\n",
      "Current step: 280\n",
      "Current step: 300\n",
      "Current step: 320\n",
      "Current step: 340\n",
      "Current step: 360\n"
     ]
    },
    {
     "data": {
      "text/plain": [
       "([[1 1 … 1 1; 1 1 … 1 1; … ; 1 1 … 1 1; 1 1 … 1 1], [1 1 … 1 1; 1 1 … 1 1; … ; 1 1 … 1 1; 1 1 … 1 1], [1 1 … 1 1; 1 1 … 1 1; … ; 1 1 … 1 1; 1 1 … 1 1], [1 1 … 1 1; 1 1 … 1 1; … ; 1 1 … 1 1; 1 1 … 1 1], [1 1 … 1 1; 1 1 … 1 1; … ; 1 1 … 1 1; 1 1 … 1 1], [1 1 … 1 1; 1 1 … 1 1; … ; 1 1 … 1 1; 1 1 … 1 1], [1 1 … 1 1; 1 1 … 1 1; … ; 1 1 … 1 1; 1 1 … 1 1], [1 1 … 1 1; 1 1 … 1 1; … ; 1 1 … 1 1; 1 1 … 1 1], [1 1 … 1 1; 1 1 … 1 1; … ; 1 1 … 1 1; 1 1 … 1 1], [1 1 … 1 1; 1 1 … 1 1; … ; 1 1 … 1 1; 1 1 … 1 1]  …  [1 1 … 1 1; 1 1 … 1 1; … ; 1 1 … 1 1; 1 1 … 1 1], [1 1 … 1 1; 1 1 … 1 1; … ; 1 1 … 1 1; 1 1 … 1 1], [1 1 … 1 1; 1 1 … 1 1; … ; 1 1 … 1 1; 1 1 … 1 1], [1 1 … 1 1; 1 1 … 1 1; … ; 1 1 … 1 1; 1 1 … 1 1], [1 1 … 1 1; 1 1 … 1 1; … ; 1 1 … 1 1; 1 1 … 1 1], [1 1 … 1 1; 1 1 … 1 1; … ; 1 1 … 1 1; 1 1 … 1 1], [1 1 … 1 1; 1 1 … 1 1; … ; 1 1 … 1 1; 1 1 … 1 1], [1 1 … 1 1; 1 1 … 1 1; … ; 1 1 … 1 1; 1 1 … 1 1], [1 1 … 1 1; 1 1 … 1 1; … ; 1 1 … 1 1; 1 1 … 1 1], [1 1 … 1 1; 1 1 … 1 1; … ; 1 1 … 1 1; 1 1 … 1 1]], [[5109512551, 5587631821, 6170010795, 1003444074, 2866069609, 3303265362, 645496751, 3577568525, 193757285, 2330376262  …  1996582769, 5745394100, 5027141008, 1519558832, 2865506415, 5111099564, 675002567, 1423048671, 1038795991, 43815118], [3164495041, 2919605757, 1982624583, 828744000, 3718508842, 956295542, 3808239672, 2061655592, 1586043359, 5147861216  …  3991884495, 1629526428, 500578793, 274419542, 3171883075, 1836971676, 4247082129, 4160797872, 2029840082, 1409140056], [3581072937, 355969272, 1114333980, 1206530434, 5369091036, 1061355508, 380693726, 143661664, 4734039441, 4014524425  …  465213051, 961670322, 3515679651, 196986627, 137178039, 1430257960, 2805172977, 3030372026, 6190726085, 3446324035], [3701122981, 3094760523, 2987779051, 4193545888, 5917464973, 5450679110, 342914337, 4299542485, 2192108592, 6341101877  …  4652298904, 6320656150, 1709252556, 1078294629, 153142778, 1499971848, 1956970861, 4347311893, 4619492304, 4747441790], [5793259839, 800416788, 6320671287, 3733157077, 2985925097, 4350253508, 4564479084, 3770565506, 5013535896, 3408656107  …  2553393629, 4238266508, 973662500, 5971424392, 1276122314, 295974617, 1850195957, 551297008, 2947023210, 5823615459], [110561719, 4119088927, 2902549359, 4479966973, 69292504, 3486085956, 3474220854, 6084110940, 2105835290, 2679763113  …  5737291530, 207913005, 262141379, 2527777203, 3848420613, 3432040747, 1555597931, 5202108727, 4534449242, 3705971283], [3417205948, 951559480, 4604922821, 2445099429, 6023345802, 777549889, 3860467314, 308127902, 4139461858, 1820429290  …  4265546938, 882374294, 4422900437, 4034795436, 3639743803, 3878903062, 5809013397, 3063819777, 4280702152, 2821378204], [5312161957, 4809226280, 1144754418, 5481946767, 496937983, 4154844165, 2031007533, 3644037719, 6074696877, 2020643325  …  5709251646, 5181798716, 1524056741, 3255230771, 1732874991, 3555681942, 240649817, 1737022855, 678378338, 2405294244], [766162942, 2103961831, 333315076, 3410770121, 5722357754, 2517011348, 611010874, 634215458, 792718398, 2389730427  …  3000682865, 286069787, 3699027445, 4817124234, 316610155, 4413280133, 4209549516, 6361017042, 3444953694, 4791194913], [5862316440, 11066233, 4530958181, 1860219572, 6183548888, 286147089, 6171881225, 998618060, 2287278186, 2015714164  …  3999726365, 5703684921, 5245860745, 2649164404, 4709686503, 2498758022, 3568314935, 4391182477, 5005169563, 3201386441]  …  [534690310, 115725230, 2054472038, 978416375, 4882426655, 4996936733, 5427926867, 2196932612, 2607209727, 2764780331  …  109170611, 1890322502, 2107968630, 5267098259, 5467069567, 3240828058, 2514140744, 4805626641, 5452011701, 2097477432], [4215320731, 4211128059, 5947583619, 2955409779, 4083122416, 2880817369, 539166129, 4724415630, 2505063883, 6288049250  …  4969214462, 3758530502, 5352622971, 4597217626, 3613157279, 5236216430, 5937666094, 3391408225, 1452578562, 2378915222], [2921240606, 861294821, 2877273378, 970017328, 5396838944, 4971780320, 3818795568, 5491491451, 3031423691, 63158091  …  3640356309, 2035642034, 4757724049, 3395673861, 5010814736, 1568655439, 4577714095, 4496135220, 4632609524, 2322264004], [4569209875, 160741272, 1457146742, 2587611080, 302986717, 593258936, 3005508893, 5870635224, 1597492882, 1747923635  …  5905462034, 2175386105, 5982565663, 4540413554, 5148577875, 5138387146, 4095050279, 4370334595, 1425625392, 5420969779], [892211893, 6325217104, 4039964719, 3116050944, 1545583939, 4349828653, 384263684, 6293355173, 3130068509, 1405119147  …  3928679118, 465175252, 6270521119, 3458405232, 5524807650, 4167959168, 3533370190, 4255176714, 531510313, 2313174102], [5264743407, 5773019450, 4969339843, 214665027, 4885969247, 4678358681, 4609802624, 1804797546, 3680191255, 5121366271  …  1713303150, 4016323912, 1259396513, 4400612296, 6080527169, 3509821847, 4491523315, 5830872343, 4956872000, 2790287466], [364870514, 1499395272, 5183086339, 4044605842, 5893184515, 997638015, 2931219401, 5362145557, 5326404222, 970829115  …  839729537, 932756703, 5315653587, 5907472940, 868157594, 5433294146, 5080688826, 3479208078, 3936167123, 6240802549], [5202482669, 4668525476, 914180469, 4306560749, 4978654840, 3635797898, 3184854985, 3827071218, 5524474818, 4931025421  …  82181622, 3593393602, 5051609805, 1003363366, 3073685565, 4971712881, 1048841271, 2921764484, 5008644350, 2897019379], [2130512170, 731822581, 721257681, 2315024120, 3291388843, 705030629, 4527288720, 4311598223, 5536886239, 4484648188  …  3110410746, 2950193016, 3154496793, 2932030524, 6003032797, 2290445805, 1971268397, 2124312504, 6162704259, 1749291799], [1859071167, 6173267422, 5367570228, 5036367678, 3831341420, 4720290213, 4474639986, 5949870088, 1857938076, 21992784  …  1798270077, 1737352128, 2980833916, 3257570817, 588758458, 5588452654, 3769022594, 192130370, 4152509035, 57175942]])"
      ]
     },
     "metadata": {},
     "output_type": "display_data"
    }
   ],
   "source": [
    "# Parameters for the simulation\n",
    "grid_size = 100  # Size of the grid\n",
    "steps = 365  # Number of iterations\n",
    "normal_mutation_rate = 1e-10  # Chance of a normal cell mutating into a tumor cell\n",
    "cancer_mutation_rate = 1e-6\n",
    "genome_size = 6.37e+9\n",
    "takeover_probability = 0.05  # Base probability of a tumor taking over a normal cell\n",
    "death_rate = 0.0001  # Death rate for normal cells\n",
    "proliferation_rate_normal = 0.1  # Rate of normal cell proliferation into adjacent empty spaces\n",
    "proliferation_rate_tumor = 0.1  # Rate of tumor cell proliferation into adjacent empty spaces\n",
    "\n",
    "grids, mutation_profiles = simulate(grid_size, steps, normal_mutation_rate, cancer_mutation_rate, genome_size, takeover_probability, death_rate, proliferation_rate_normal, proliferation_rate_tumor)"
   ]
  },
  {
   "cell_type": "code",
   "execution_count": 4,
   "metadata": {},
   "outputs": [
    {
     "data": {
      "text/plain": [
       "false"
      ]
     },
     "metadata": {},
     "output_type": "display_data"
    }
   ],
   "source": [
    "any(grids[end] .== 2)"
   ]
  },
  {
   "cell_type": "code",
   "execution_count": 5,
   "metadata": {},
   "outputs": [
    {
     "data": {
      "text/plain": [
       "296"
      ]
     },
     "metadata": {},
     "output_type": "display_data"
    }
   ],
   "source": [
    "maximum(map(x -> length(x), mutation_profiles))"
   ]
  },
  {
   "cell_type": "code",
   "execution_count": 8,
   "metadata": {},
   "outputs": [
    {
     "name": "stderr",
     "output_type": "stream",
     "text": [
      "┌ Info: Saved animation to /Users/wl61/github/MutSim/test/cancer-cell-anim.gif\n",
      "└ @ Plots /Users/wl61/.julia/packages/Plots/ju9dp/src/animation.jl:156\n"
     ]
    },
    {
     "data": {
      "text/html": [
       "<img src=\"data:image/gif;base64,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\" />"
      ],
      "text/plain": [
       "Plots.AnimatedGif(\"/Users/wl61/github/MutSim/test/cancer-cell-anim.gif\")"
      ]
     },
     "metadata": {},
     "output_type": "display_data"
    }
   ],
   "source": [
    "create_animation(grids)"
   ]
  },
  {
   "cell_type": "code",
   "execution_count": 10,
   "metadata": {},
   "outputs": [],
   "source": [
    "pos_count = Dict()\n",
    "for cell_mutation in mutation_profiles\n",
    "    for pos in cell_mutation\n",
    "        if haskey(pos_count, pos)\n",
    "            pos_count[pos] += 1\n",
    "        else\n",
    "            pos_count[pos] = 1\n",
    "        end\n",
    "    end\n",
    "end"
   ]
  },
  {
   "cell_type": "code",
   "execution_count": 11,
   "metadata": {},
   "outputs": [
    {
     "data": {
      "text/plain": [
       "Dict{Any, Any} with 2283439 entries:\n",
       "  2655412712 => 1\n",
       "  5846840602 => 1\n",
       "  991579098  => 1\n",
       "  3240715096 => 1\n",
       "  951635953  => 1\n",
       "  4208736072 => 1\n",
       "  1205341552 => 1\n",
       "  5805987220 => 1\n",
       "  3928367050 => 1\n",
       "  3430208151 => 1\n",
       "  3181199435 => 1\n",
       "  5348893409 => 1\n",
       "  3001881727 => 1\n",
       "  8876677    => 1\n",
       "  5141258039 => 1\n",
       "  5312976091 => 1\n",
       "  18819734   => 1\n",
       "  2481377738 => 2\n",
       "  3136368580 => 1\n",
       "  ⋮          => ⋮"
      ]
     },
     "metadata": {},
     "output_type": "display_data"
    }
   ],
   "source": [
    "pos_count"
   ]
  },
  {
   "cell_type": "code",
   "execution_count": null,
   "metadata": {},
   "outputs": [],
   "source": []
  }
 ],
 "metadata": {
  "kernelspec": {
   "display_name": "Julia 1.9.4",
   "language": "julia",
   "name": "julia-1.9"
  },
  "language_info": {
   "file_extension": ".jl",
   "mimetype": "application/julia",
   "name": "julia",
   "version": "1.9.4"
  }
 },
 "nbformat": 4,
 "nbformat_minor": 2
}
