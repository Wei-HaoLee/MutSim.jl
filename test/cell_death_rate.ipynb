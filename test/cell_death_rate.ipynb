{
 "cells": [
  {
   "cell_type": "code",
   "execution_count": 13,
   "metadata": {},
   "outputs": [],
   "source": [
    "using MutSim\n",
    "using Plots\n",
    "using Random\n",
    "using Printf"
   ]
  },
  {
   "cell_type": "code",
   "execution_count": 5,
   "metadata": {},
   "outputs": [
    {
     "data": {
      "text/plain": [
       "1.0e-5"
      ]
     },
     "metadata": {},
     "output_type": "display_data"
    }
   ],
   "source": [
    "# Parameters for the simulation\n",
    "grid_size = 100  # Size of the grid\n",
    "steps = 365 # Number of iterations\n",
    "normal_mutation_rate = 1e-10  # Chance of a normal cell mutating into a tumor cell\n",
    "cancer_mutation_rate = 1e-5\n",
    "genome_size = 3.185e+9\n",
    "takeover_probability = 0.01  # Base probability of a tumor taking over a normal cell\n",
    "death_rate = 1/28  # Death rate for normal cells\n",
    "mutation_per_bp = (10^1)/1e+6 "
   ]
  },
  {
   "cell_type": "markdown",
   "metadata": {},
   "source": [
    "## Normal cell Short-term simulation"
   ]
  },
  {
   "cell_type": "code",
   "execution_count": 6,
   "metadata": {},
   "outputs": [
    {
     "data": {
      "text/plain": [
       "([[1 1 … 1 1; 1 1 … 1 1; … ; 1 1 … 1 1; 1 1 … 1 1], [1 1 … 0 1; 1 1 … 1 1; … ; 1 1 … 1 1; 1 1 … 1 1], [1 1 … 1 1; 1 1 … 1 1; … ; 1 1 … 1 1; 1 1 … 1 1], [0 1 … 1 1; 1 0 … 1 1; … ; 1 1 … 1 1; 1 1 … 1 1], [1 1 … 1 1; 1 1 … 1 1; … ; 1 1 … 1 1; 0 1 … 1 1], [1 1 … 1 1; 1 1 … 1 1; … ; 1 1 … 1 1; 1 1 … 1 1], [1 1 … 1 1; 1 1 … 1 1; … ; 1 1 … 0 1; 1 1 … 1 1], [0 0 … 1 1; 1 1 … 1 1; … ; 1 1 … 1 1; 1 1 … 1 1], [1 1 … 1 1; 1 1 … 1 1; … ; 1 1 … 1 0; 1 1 … 1 1], [1 1 … 1 1; 1 1 … 1 1; … ; 1 1 … 1 1; 1 1 … 0 1]  …  [1 0 … 1 1; 1 1 … 1 1; … ; 1 1 … 1 1; 1 0 … 1 1], [1 1 … 1 1; 1 1 … 1 1; … ; 1 1 … 1 1; 1 1 … 1 1], [1 1 … 1 1; 1 1 … 1 1; … ; 1 1 … 1 1; 1 1 … 1 1], [1 1 … 1 1; 1 1 … 1 1; … ; 1 1 … 1 0; 1 1 … 1 1], [1 1 … 1 1; 1 1 … 1 1; … ; 1 1 … 1 1; 1 1 … 1 1], [1 1 … 1 1; 1 1 … 1 1; … ; 1 1 … 1 1; 1 1 … 1 1], [1 1 … 1 1; 1 1 … 1 1; … ; 1 1 … 1 1; 1 0 … 1 1], [1 1 … 1 0; 1 1 … 1 1; … ; 1 1 … 1 1; 0 1 … 1 1], [1 1 … 1 1; 1 1 … 1 1; … ; 1 0 … 1 1; 1 1 … 1 1], [1 1 … 1 1; 1 1 … 1 1; … ; 1 1 … 1 1; 1 1 … 0 1]], [[2322509570, 2372840395, 2396655363, 601169454], [2322509570, 2372840395, 2396655363, 601169454], [2322509570, 2372840395, 2396655363, 601169454, 923585423], [2322509570, 2372840395, 2396655363, 601169454, 923585423], [194282156, 453968256, 2569394348, 169172795, 2212638181, 1258110819, 865677742], [1812370667, 828253613, 2127623444, 1961724544, 1106657128, 1740610454, 1928891428, 1230342300, 2955812986], [2429046431, 1760714834, 1754290953, 1483514181, 385268495, 741192805, 1143342186, 1550650826, 1404061770, 1967429199, 1441366605], [2814308181, 1237394111, 2895933186, 2774151631, 1880111995, 1583356529], [2814308181, 1237394111, 2895933186, 2774151631, 1880111995, 1583356529], [2814308181, 1237394111, 2895933186, 2774151631, 1880111995]  …  [2966604863, 1188283584, 2913803282, 1362059208, 1564956243, 2733569451, 1855190308, 2160176024], [2966604863, 1188283584, 2913803282, 2000400348, 735111826, 2443630037, 2619123332, 2978491590, 1894087326], [2966604863, 1188283584, 2913803282, 2000400348, 735111826, 2443630037, 2619123332, 2978491590], [2966604863, 1188283584, 2913803282, 2000400348, 735111826, 2443630037, 1928489430, 2498955135, 2742461413, 3177910311, 1446099362], [1605459794], Int64[], Int64[], [1115933637, 3093035963], [2717748126, 121737900, 3003143315, 1455814648, 2855139091, 1710907859, 529095325, 929040325, 2986443077, 126643367, 74599042, 818701366], [1364548160, 2400625809]])"
      ]
     },
     "metadata": {},
     "output_type": "display_data"
    }
   ],
   "source": [
    "grids, mutation_profiles = simulate(grid_size, steps, normal_mutation_rate, cancer_mutation_rate, \n",
    "                                    genome_size, takeover_probability, death_rate, mutation_per_bp)"
   ]
  },
  {
   "cell_type": "code",
   "execution_count": 23,
   "metadata": {},
   "outputs": [],
   "source": [
    "cell_types = [\"small intestine epithelium\", \"stomach\", \"blood\", \"cervix\", \"lung\", \"skin\", \"brain\"]\n",
    "renewal_rate = [4, 9, 5, 6, 8, 28, 1e+10]\n",
    "for (i, dr) in enumerate(renewal_rate)\n",
    "    grids, mutation_profiles = simulate(grid_size, steps, normal_mutation_rate, cancer_mutation_rate, \n",
    "                                        genome_size, takeover_probability, 1/renewal_rate[i], mutation_per_bp)\n",
    "\n",
    "    n_mut_freq = get_mutation_frequency(mutation_profiles)\n",
    "    num_mut = collect(keys(n_mut_freq))\n",
    "    freq = collect(values(n_mut_freq))\n",
    "\n",
    "    str_dr = @sprintf(\"%.2f\", 1/dr)\n",
    "    cell_type = cell_types[i]\n",
    "\n",
    "    rd = \"\"\n",
    "    if cell_type == \"brain\"\n",
    "        str_dr = \"∞\"\n",
    "        rd = \"life time\"\n",
    "    else\n",
    "        rd = renewal_rate[i]\n",
    "    end\n",
    "    \n",
    "    plot(bar(num_mut, freq), legend=false, dpi=300, titlefontsize=10)\n",
    "    title!(\"$cell_type\\n(renewal rate: $str_dr | renewal days: $rd)\")\n",
    "    xlabel!(\"SFS\")\n",
    "    ylabel!(\"# mutation number\")\n",
    "    savefig(\"../results/cell_death/$cell_type.png\")\n",
    "end"
   ]
  },
  {
   "cell_type": "code",
   "execution_count": null,
   "metadata": {},
   "outputs": [],
   "source": []
  }
 ],
 "metadata": {
  "kernelspec": {
   "display_name": "Julia 1.9.4",
   "language": "julia",
   "name": "julia-1.9"
  },
  "language_info": {
   "file_extension": ".jl",
   "mimetype": "application/julia",
   "name": "julia",
   "version": "1.9.4"
  }
 },
 "nbformat": 4,
 "nbformat_minor": 2
}
