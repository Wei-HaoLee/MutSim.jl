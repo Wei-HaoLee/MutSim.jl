{
 "cells": [
  {
   "cell_type": "code",
   "execution_count": 2,
   "metadata": {},
   "outputs": [],
   "source": [
    "using MutSim\n",
    "using Plots\n",
    "using Random"
   ]
  },
  {
   "cell_type": "code",
   "execution_count": 3,
   "metadata": {},
   "outputs": [
    {
     "data": {
      "text/plain": [
       "1.0e-5"
      ]
     },
     "metadata": {},
     "output_type": "display_data"
    }
   ],
   "source": [
    "# Parameters for the simulation\n",
    "grid_size = 100  # Size of the grid\n",
    "steps = 100 # Number of iterations\n",
    "normal_mutation_rate = 1e-10  # Chance of a normal cell mutating into a tumor cell\n",
    "cancer_mutation_rate = 1e-5\n",
    "genome_size = 3.185e+9\n",
    "takeover_probability = 0.01  # Base probability of a tumor taking over a normal cell\n",
    "death_rate = 1/28  # Death rate for normal cells\n",
    "mutation_per_bp = (10^1)/1e+6 "
   ]
  },
  {
   "cell_type": "markdown",
   "metadata": {},
   "source": [
    "## Normal cell Short-term simulation"
   ]
  },
  {
   "cell_type": "code",
   "execution_count": 22,
   "metadata": {},
   "outputs": [
    {
     "data": {
      "text/plain": [
       "([[1 1 … 1 1; 1 1 … 1 1; … ; 1 1 … 1 1; 1 1 … 1 1], [1 1 … 1 1; 1 1 … 1 1; … ; 1 0 … 1 1; 1 1 … 1 1], [1 1 … 1 1; 1 1 … 1 1; … ; 1 1 … 1 1; 1 1 … 1 1], [1 1 … 1 1; 1 1 … 1 1; … ; 1 1 … 1 1; 1 1 … 1 1], [1 1 … 1 1; 1 1 … 0 1; … ; 1 0 … 1 1; 1 1 … 1 1], [1 1 … 1 1; 1 1 … 1 1; … ; 1 1 … 1 1; 1 1 … 1 1], [1 1 … 1 1; 1 1 … 1 1; … ; 1 1 … 1 1; 1 0 … 1 1], [1 1 … 1 1; 1 1 … 1 1; … ; 1 1 … 1 0; 1 1 … 1 1], [1 1 … 1 1; 1 1 … 1 1; … ; 1 1 … 1 1; 1 0 … 1 1], [1 1 … 1 1; 1 1 … 1 1; … ; 1 1 … 1 1; 1 1 … 1 1]  …  [1 0 … 1 1; 1 1 … 1 1; … ; 1 1 … 1 1; 1 1 … 1 1], [1 1 … 1 1; 1 0 … 1 1; … ; 1 1 … 1 1; 1 1 … 1 1], [1 1 … 1 1; 1 1 … 1 1; … ; 0 1 … 1 1; 1 1 … 1 1], [1 1 … 1 1; 1 0 … 1 1; … ; 1 1 … 1 1; 1 1 … 1 1], [1 1 … 1 1; 1 1 … 1 1; … ; 1 1 … 1 1; 1 1 … 1 1], [1 1 … 1 1; 1 1 … 1 1; … ; 1 1 … 1 1; 1 1 … 1 1], [1 1 … 1 1; 1 1 … 1 1; … ; 1 1 … 1 1; 1 1 … 1 1], [1 1 … 1 1; 1 1 … 1 1; … ; 1 1 … 1 1; 0 1 … 1 0], [1 1 … 1 1; 1 1 … 1 1; … ; 1 1 … 1 1; 1 1 … 1 1], [1 1 … 1 1; 1 1 … 1 1; … ; 1 1 … 1 1; 0 1 … 1 1]], [[975604538, 1106681105, 174751626, 74307329, 2256269911, 2369720324], [975604538, 1106681105, 174751626, 74307329, 2256269911, 444199827, 2143659636, 2261830388, 514346940, 2190027805, 985020895, 721507975], [975604538, 1106681105, 174751626, 74307329, 2256269911, 444199827, 2143659636, 2261830388, 514346940, 2190027805, 2175913626, 2001548810], [855455769, 2092110782, 676566015, 3049281572, 592778860, 891333678, 2143785431, 2730595329, 2586010943, 2946765090, 185037497, 775091502, 307604679, 1231946511], [975604538, 1106681105, 174751626, 74307329, 1524117744, 1245175607, 1583519332], [975604538, 1106681105, 174751626, 74307329, 1524117744, 1245175607, 1583519332, 788417994, 1495279836, 2658491745], [2459640902, 2206935686, 2580871916, 1492364954, 3095300056, 1122244032, 1686275541, 1037726429], [820634265, 286690510, 559816347, 1960883751, 2619160522, 2103222749, 1023120672], [820634265, 286690510, 559816347, 1960883751, 2619160522, 2671464395, 2206761231, 1235455690], [820634265, 286690510, 559816347, 1960883751, 2619160522, 2671464395, 2206761231, 2028608816, 364770726]  …  [2904563440, 747800471, 95835613, 61138347, 2715848927, 1231098143, 2080775683, 2236143046, 1303364891, 319536244, 2524726801, 955638877, 1771806345], [3019984883, 278256293, 2838917918, 1030641646, 1996949763, 2685809584, 1526909444, 1544844046], [3019984883, 278256293, 2838917918, 1030641646, 1996949763, 2685809584, 1526909444, 1544844046, 2175572822, 2843744003], [1006637178, 1590171464, 2389522987, 1129901656, 1196474689, 908422977, 1585467051, 869873239], [1006637178, 1727540789, 992163633, 243152792, 1438912086, 1429028365, 335062555, 864358841, 2750041609, 1473988925, 827095259, 1381717538, 151076689, 2928974698, 227261784], [2795200369, 1142643164, 1719924899], [2875462102, 990938213, 1548665906, 451715249, 195254498, 836879033, 2879872693], [2795200369, 1142643164, 1719924899], [2162061639, 373012226, 738407173, 2685785968, 2367660203, 1960946631, 989077516], [2162061639, 373012226, 738407173, 2685785968, 2367660203, 1960946631, 989077516]])"
      ]
     },
     "metadata": {},
     "output_type": "display_data"
    }
   ],
   "source": [
    "grids, mutation_profiles = simulate(grid_size, steps, normal_mutation_rate, cancer_mutation_rate, \n",
    "                                    genome_size, takeover_probability, death_rate, mutation_per_bp)"
   ]
  },
  {
   "cell_type": "markdown",
   "metadata": {},
   "source": [
    "**Unmutated cells**"
   ]
  },
  {
   "cell_type": "code",
   "execution_count": 38,
   "metadata": {},
   "outputs": [],
   "source": [
    "num_unmutated_cells = []\n",
    "avg_mutation_iter = []\n",
    "for step in 1:1:365\n",
    "    grids, mutation_profiles = simulate(grid_size, step, normal_mutation_rate, cancer_mutation_rate, \n",
    "                                    genome_size, takeover_probability, death_rate, mutation_per_bp)\n",
    "    n_cells = 0\n",
    "    avg_mutation = 0\n",
    "    for i in 1:length(mutation_profiles)\n",
    "        if length(mutation_profiles[i]) == 0\n",
    "            n_cells += 1\n",
    "        end\n",
    "        avg_mutation += length(mutation_profiles[i])\n",
    "    end\n",
    "    push!(avg_mutation_iter, avg_mutation / grid_size^2)\n",
    "    push!(num_unmutated_cells, n_cells)\n",
    "end \n"
   ]
  },
  {
   "cell_type": "code",
   "execution_count": 39,
   "metadata": {},
   "outputs": [
    {
     "data": {
      "text/plain": [
       "\"/Users/wl61/github/MutSim/results/normal_sim/unmutated_normal_cell.png\""
      ]
     },
     "metadata": {},
     "output_type": "display_data"
    }
   ],
   "source": [
    "plot(1:1:151, num_unmutated_cells[1:151], legend=false, dpi=300)\n",
    "xlabel!(\"N. iteration (days)\")\n",
    "ylabel!(\"# unmutated cells\")\n",
    "savefig(\"../results/normal_sim/unmutated_normal_cell.png\")"
   ]
  },
  {
   "cell_type": "code",
   "execution_count": 41,
   "metadata": {},
   "outputs": [
    {
     "data": {
      "text/plain": [
       "\"/Users/wl61/github/MutSim/results/normal_sim/avg_snvs.png\""
      ]
     },
     "metadata": {},
     "output_type": "display_data"
    }
   ],
   "source": [
    "plot(1:1:365, avg_mutation_iter, legend=false, dpi=300)\n",
    "xlabel!(\"N. iteration (days)\")\n",
    "ylabel!(\"Average number of SNVs\")\n",
    "savefig(\"../results/normal_sim/avg_snvs.png\")"
   ]
  },
  {
   "cell_type": "code",
   "execution_count": 42,
   "metadata": {},
   "outputs": [
    {
     "data": {
      "text/plain": [
       "43-element Vector{Any}:\n",
       "   386\n",
       "  2883\n",
       "  4104\n",
       " 10715\n",
       "  7340\n",
       " 17833\n",
       "  5248\n",
       "   882\n",
       "   678\n",
       "  2637\n",
       "     ⋮\n",
       "     3\n",
       "     4\n",
       "    10\n",
       "    12\n",
       "     2\n",
       "    10\n",
       "    10\n",
       "    19\n",
       "    24"
      ]
     },
     "metadata": {},
     "output_type": "display_data"
    }
   ],
   "source": [
    "n_mut_freq = get_mutation_frequency(mutation_profiles)\n",
    "num_mut = collect(keys(n_mut_freq))\n",
    "freq = collect(values(n_mut_freq))"
   ]
  },
  {
   "cell_type": "code",
   "execution_count": 45,
   "metadata": {},
   "outputs": [
    {
     "data": {
      "text/plain": [
       "\"/Users/wl61/github/MutSim/results/normal_sim/normal_cell.png\""
      ]
     },
     "metadata": {},
     "output_type": "display_data"
    }
   ],
   "source": [
    "plot(bar(num_mut./maximum(num_mut), freq ./ sum(freq)), legend=false, dpi=300)\n",
    "xlabel!(\"SFS\")\n",
    "ylabel!(\"Relative mutation number\")\n",
    "savefig(\"../results/normal_sim/normal_cell.png\")"
   ]
  },
  {
   "cell_type": "code",
   "execution_count": 46,
   "metadata": {},
   "outputs": [
    {
     "data": {
      "text/plain": [
       "\"/Users/wl61/github/MutSim/results/normal_sim/normal_cell_actual.png\""
      ]
     },
     "metadata": {},
     "output_type": "display_data"
    }
   ],
   "source": [
    "plot(bar(num_mut, freq), legend=false, dpi=300)\n",
    "xlabel!(\"SFS\")\n",
    "ylabel!(\"# mutation number\")\n",
    "savefig(\"../results/normal_sim/normal_cell_actual.png\")"
   ]
  },
  {
   "cell_type": "code",
   "execution_count": 56,
   "metadata": {},
   "outputs": [
    {
     "data": {
      "text/plain": [
       "\"/Users/wl61/github/MutSim/results/normal_sim/day1_normal_grid_view.png\""
      ]
     },
     "metadata": {},
     "output_type": "display_data"
    }
   ],
   "source": [
    "heatmap(grids[2], c=cgrad([\"#d8e9ef\", \"#79a8a9\", \"#fc9d9a\"], categorical=true), clim=(0, 2), size=(600, 600), axis=false, legend=false)\n",
    "title!(\"t=1 (day)\")\n",
    "savefig(\"../results/normal_sim/day1_normal_grid_view.png\")"
   ]
  },
  {
   "cell_type": "code",
   "execution_count": 57,
   "metadata": {},
   "outputs": [
    {
     "data": {
      "text/plain": [
       "\"/Users/wl61/github/MutSim/results/normal_sim/day365_normal_grid_view.png\""
      ]
     },
     "metadata": {},
     "output_type": "display_data"
    }
   ],
   "source": [
    "heatmap(grids[end], c=cgrad([\"#d8e9ef\", \"#79a8a9\", \"#fc9d9a\"], categorical=true), clim=(0, 2), size=(600, 600), axis=false, legend=false)\n",
    "title!(\"t=365 (days)\")\n",
    "savefig(\"../results/normal_sim/day365_normal_grid_view.png\")"
   ]
  },
  {
   "cell_type": "markdown",
   "metadata": {},
   "source": [
    "## Normal mutation rate in a long-term simulation"
   ]
  },
  {
   "cell_type": "code",
   "execution_count": 9,
   "metadata": {},
   "outputs": [
    {
     "name": "stdout",
     "output_type": "stream",
     "text": [
      "year: 5, maximum number of snp: 210\n",
      "year: 10, maximum number of snp: 380\n",
      "year: 15, maximum number of snp: 548\n",
      "year: 20, maximum number of snp: 699\n",
      "year: 25, maximum number of snp: 880\n",
      "year: 30, maximum number of snp: 1060\n"
     ]
    },
    {
     "data": {
      "text/plain": [
       "\"/Users/wl61/github/MutSim/results/normal_sim/max_num_mut_across_age.png\""
      ]
     },
     "metadata": {},
     "output_type": "display_data"
    }
   ],
   "source": [
    "max_num_snp_year = []\n",
    "\n",
    "steps = 365\n",
    "# genereate the first year\n",
    "grids, mutation_profiles = simulate(grid_size, steps, normal_mutation_rate, cancer_mutation_rate, \n",
    "                                    genome_size, takeover_probability, death_rate, \n",
    "                                    mutation_per_bp)\n",
    "\n",
    "has_cancer = any(grids[end] .== 2)\n",
    "maximum_num_snp = maximum(map(x -> length(x), mutation_profiles))\n",
    "push!(max_num_snp_year, maximum_num_snp)\n",
    "\n",
    "# following year\n",
    "end_age = 30\n",
    "for i in 2:end_age\n",
    "    if i%4 == 0\n",
    "        steps = 366\n",
    "    else\n",
    "        steps = 365\n",
    "    end\n",
    "    grids, mutation_profiles = simulate_continue(grids[end], mutation_profiles, \n",
    "                                                 steps, normal_mutation_rate, cancer_mutation_rate, genome_size,\n",
    "                                                 takeover_probability, death_rate, mutation_per_bp)\n",
    "    has_cancer = any(grids[end] .== 2)\n",
    "    maximum_num_snp = maximum(map(x -> length(x), mutation_profiles))\n",
    "    push!(max_num_snp_year, maximum_num_snp)\n",
    "\n",
    "    if has_cancer\n",
    "        println(\"year: $i, maximum number of snp: $maximum_num_snp\")\n",
    "    elseif i%5 == 0\n",
    "        println(\"year: $i, maximum number of snp: $maximum_num_snp\")\n",
    "        \n",
    "\n",
    "        n_mut_freq = get_mutation_frequency(mutation_profiles)\n",
    "        num_mut = collect(keys(n_mut_freq))\n",
    "        freq = collect(values(n_mut_freq))\n",
    "        plot(bar(num_mut, freq), legend=false, dpi=300)\n",
    "        title!(\"With normal mutation rate at age $i\")\n",
    "        xlabel!(\"SFS\")\n",
    "        ylabel!(\"# mutation number\")\n",
    "        savefig(\"../results/normal_sim/sfs_year_$i.png\")\n",
    "    end\n",
    "end\n",
    "\n",
    "plot(1:end_age, max_num_snp_year, legend=false, dpi=300)\n",
    "xlabel!(\"Age\")\n",
    "ylabel!(\"Maximum number of mutations in a cell\")\n",
    "savefig(\"../results/normal_sim/max_num_mut_across_age.png\")"
   ]
  },
  {
   "cell_type": "code",
   "execution_count": null,
   "metadata": {},
   "outputs": [],
   "source": []
  }
 ],
 "metadata": {
  "kernelspec": {
   "display_name": "Julia 1.9.4",
   "language": "julia",
   "name": "julia-1.9"
  },
  "language_info": {
   "file_extension": ".jl",
   "mimetype": "application/julia",
   "name": "julia",
   "version": "1.9.4"
  }
 },
 "nbformat": 4,
 "nbformat_minor": 2
}
